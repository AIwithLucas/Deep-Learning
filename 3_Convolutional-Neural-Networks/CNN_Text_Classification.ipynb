{
 "cells": [
  {
   "cell_type": "markdown",
   "metadata": {},
   "source": [
    "## Theory\n",
    "\n",
    "#### Sequences\n",
    "\n",
    "- 1 feature dimension: Time\n",
    "- Data nearby in time are also similar in value\n",
    "\n",
    "#### 1D Convolution\n",
    "\n",
    "- slide filter along every position in time (i.e the sequence)\n",
    "\n",
    "#### Filter Shape:\n",
    "\n",
    "- For images: Input Feature Dimension + 2 spatial Dimensions H x W + Output Feature Dimension = C1 x H x W x C2\n",
    "- For Sequences: Input Feature Dimension + 1 time dimension + output feature dimension = C1 x T x C2\n",
    "\n",
    "#### How to view CNN relative to sequences\n",
    "\n",
    "- like a sliding dot product searching for correlation within sequences\n",
    "- Checking how similar that given portion of the sequence is similar to the filter\n",
    "\n",
    "#### Input data\n",
    "\n",
    "- need T x D input\n",
    "- [\"I\", \"Like\", \"Cats\"] -> [30, 251, 6] -> [vec1, vec2, vec3] (vec is of size D)\n",
    "- T sequence of words, of vector size D = T x D\n"
   ]
  },
  {
   "cell_type": "code",
   "execution_count": 8,
   "metadata": {},
   "outputs": [],
   "source": [
    "import tensorflow as tf\n",
    "\n",
    "from tensorflow.keras.preprocessing.text import Tokenizer\n",
    "from tensorflow.keras.preprocessing.sequence import pad_sequences\n",
    "\n",
    "from tensorflow.keras.layers import Input, Dense, GlobalMaxPooling1D\n",
    "from tensorflow.keras.layers import Conv1D, MaxPooling1D, Embedding\n",
    "from tensorflow.keras.models import Model\n",
    "\n",
    "import numpy as np\n",
    "import pandas as pd\n",
    "import matplotlib.pyplot as plt\n",
    "\n",
    "from sklearn.model_selection import train_test_split"
   ]
  },
  {
   "cell_type": "code",
   "execution_count": 4,
   "metadata": {},
   "outputs": [
    {
     "data": {
      "text/html": [
       "<div>\n",
       "<style scoped>\n",
       "    .dataframe tbody tr th:only-of-type {\n",
       "        vertical-align: middle;\n",
       "    }\n",
       "\n",
       "    .dataframe tbody tr th {\n",
       "        vertical-align: top;\n",
       "    }\n",
       "\n",
       "    .dataframe thead th {\n",
       "        text-align: right;\n",
       "    }\n",
       "</style>\n",
       "<table border=\"1\" class=\"dataframe\">\n",
       "  <thead>\n",
       "    <tr style=\"text-align: right;\">\n",
       "      <th></th>\n",
       "      <th>email</th>\n",
       "      <th>label</th>\n",
       "    </tr>\n",
       "  </thead>\n",
       "  <tbody>\n",
       "    <tr>\n",
       "      <th>0</th>\n",
       "      <td>date wed NUMBER aug NUMBER NUMBER NUMBER NUMB...</td>\n",
       "      <td>0</td>\n",
       "    </tr>\n",
       "    <tr>\n",
       "      <th>1</th>\n",
       "      <td>martin a posted tassos papadopoulos the greek ...</td>\n",
       "      <td>0</td>\n",
       "    </tr>\n",
       "    <tr>\n",
       "      <th>2</th>\n",
       "      <td>man threatens explosion in moscow thursday aug...</td>\n",
       "      <td>0</td>\n",
       "    </tr>\n",
       "    <tr>\n",
       "      <th>3</th>\n",
       "      <td>klez the virus that won t die already the most...</td>\n",
       "      <td>0</td>\n",
       "    </tr>\n",
       "    <tr>\n",
       "      <th>4</th>\n",
       "      <td>in adding cream to spaghetti carbonara which ...</td>\n",
       "      <td>0</td>\n",
       "    </tr>\n",
       "  </tbody>\n",
       "</table>\n",
       "</div>"
      ],
      "text/plain": [
       "                                               email  label\n",
       "0   date wed NUMBER aug NUMBER NUMBER NUMBER NUMB...      0\n",
       "1  martin a posted tassos papadopoulos the greek ...      0\n",
       "2  man threatens explosion in moscow thursday aug...      0\n",
       "3  klez the virus that won t die already the most...      0\n",
       "4   in adding cream to spaghetti carbonara which ...      0"
      ]
     },
     "execution_count": 4,
     "metadata": {},
     "output_type": "execute_result"
    }
   ],
   "source": [
    "df = pd.read_csv(\"spam_or_not_spam.csv\")\n",
    "df.head()"
   ]
  },
  {
   "cell_type": "code",
   "execution_count": 5,
   "metadata": {},
   "outputs": [
    {
     "data": {
      "text/plain": [
       "email    1\n",
       "label    0\n",
       "dtype: int64"
      ]
     },
     "execution_count": 5,
     "metadata": {},
     "output_type": "execute_result"
    }
   ],
   "source": [
    "df.isna().sum()"
   ]
  },
  {
   "cell_type": "code",
   "execution_count": 6,
   "metadata": {},
   "outputs": [],
   "source": [
    "df.dropna(inplace=True)"
   ]
  },
  {
   "cell_type": "code",
   "execution_count": 9,
   "metadata": {},
   "outputs": [],
   "source": [
    "df_train, df_test, Ytrain, Ytest = train_test_split(df['email'], df['label'].values, test_size=0.33)"
   ]
  },
  {
   "cell_type": "code",
   "execution_count": 10,
   "metadata": {},
   "outputs": [],
   "source": [
    "MAX_VOCAB_SIZE = 20000\n",
    "tokenizer = Tokenizer(num_words=MAX_VOCAB_SIZE)\n",
    "tokenizer.fit_on_texts(df_train) # converts sentences into tokens\n",
    "sequences_train = tokenizer.texts_to_sequences(df_train) # convert tokens to indices\n",
    "sequences_test = tokenizer.texts_to_sequences(df_test) "
   ]
  },
  {
   "cell_type": "code",
   "execution_count": 11,
   "metadata": {},
   "outputs": [
    {
     "name": "stdout",
     "output_type": "stream",
     "text": [
      "Found 28720 unique tokens\n"
     ]
    }
   ],
   "source": [
    "word2idx = tokenizer.word_index\n",
    "V = len(word2idx)\n",
    "print(f\"Found {V} unique tokens\")"
   ]
  },
  {
   "cell_type": "code",
   "execution_count": null,
   "metadata": {},
   "outputs": [
    {
     "name": "stdout",
     "output_type": "stream",
     "text": [
      "Shape of data train tensor: (2009, 7417)\n"
     ]
    }
   ],
   "source": [
    "# pad sequences to get N x T matrix\n",
    "data_train = pad_sequences(sequences_train) # make all sentences have equal length\n",
    "\n",
    "T = data_train.shape[1]\n",
    "print(f\"Shape of data train tensor: {data_train.shape}\")\n",
    "# 7417 is length of longest sentence"
   ]
  },
  {
   "cell_type": "code",
   "execution_count": 13,
   "metadata": {},
   "outputs": [
    {
     "name": "stdout",
     "output_type": "stream",
     "text": [
      "Shape of data test tensor: (990, 7417)\n"
     ]
    }
   ],
   "source": [
    "data_test = pad_sequences(sequences_test, maxlen=T)\n",
    "print(f\"Shape of data test tensor: {data_test.shape}\")"
   ]
  },
  {
   "cell_type": "markdown",
   "metadata": {},
   "source": [
    "### Build Model\n"
   ]
  },
  {
   "cell_type": "code",
   "execution_count": 16,
   "metadata": {},
   "outputs": [],
   "source": [
    "D = 20 # Embedding dimensions\n",
    "kernel_size = 3\n",
    "\n",
    "# size of embedding is V + 1 because not 0-indexing\n",
    "# so if final index is V, then size is V + 1\n",
    "\n",
    "i = Input(shape=(T, )) # T is the sentence length (sequence length)\n",
    "x = Embedding(V + 1, D)(i) # Converts the sequence of index into embedding vector (T x D)\n",
    "\n",
    "x = Conv1D(32, kernel_size, activation='relu')(x)\n",
    "x = MaxPooling1D(kernel_size)(x)\n",
    "\n",
    "x = Conv1D(64, kernel_size, activation='relu')(x)\n",
    "x = MaxPooling1D(kernel_size)(x)\n",
    "\n",
    "x = Conv1D(128, kernel_size, activation='relu')(x)\n",
    "x  = GlobalMaxPooling1D()(x) # select only max value from 128 feature maps, thus output will be 1 x D\n",
    "\n",
    "x = Dense(1, activation='sigmoid')(x) # single output predicting spam or not \n",
    "\n",
    "model = Model(i, x)\n",
    "\n",
    "\n",
    "\n"
   ]
  },
  {
   "cell_type": "markdown",
   "metadata": {},
   "source": [
    "## Compile & Fit\n"
   ]
  },
  {
   "cell_type": "code",
   "execution_count": 17,
   "metadata": {},
   "outputs": [
    {
     "name": "stdout",
     "output_type": "stream",
     "text": [
      "Epoch 1/5\n",
      "63/63 [==============================] - 2s 32ms/step - loss: 0.4451 - accuracy: 0.8382 - val_loss: 0.3945 - val_accuracy: 0.8242\n",
      "Epoch 2/5\n",
      "63/63 [==============================] - 2s 31ms/step - loss: 0.2442 - accuracy: 0.8746 - val_loss: 0.1627 - val_accuracy: 0.9545\n",
      "Epoch 3/5\n",
      "63/63 [==============================] - 2s 31ms/step - loss: 0.0424 - accuracy: 0.9920 - val_loss: 0.0493 - val_accuracy: 0.9838\n",
      "Epoch 4/5\n",
      "63/63 [==============================] - 2s 32ms/step - loss: 0.0059 - accuracy: 0.9985 - val_loss: 0.0346 - val_accuracy: 0.9848\n",
      "Epoch 5/5\n",
      "63/63 [==============================] - 2s 32ms/step - loss: 0.0026 - accuracy: 0.9990 - val_loss: 0.0277 - val_accuracy: 0.9889\n"
     ]
    }
   ],
   "source": [
    "model.compile(\n",
    "    loss='binary_crossentropy',\n",
    "    optimizer='adam',\n",
    "    metrics=['accuracy']\n",
    ")\n",
    "\n",
    "r = model.fit(\n",
    "    data_train, Ytrain,\n",
    "    epochs=5,\n",
    "    validation_data=(data_test, Ytest)\n",
    ")"
   ]
  },
  {
   "cell_type": "code",
   "execution_count": 18,
   "metadata": {},
   "outputs": [
    {
     "data": {
      "image/png": "[encoded data removed]",
      "text/plain": [
       "<Figure size 640x480 with 1 Axes>"
      ]
     },
     "metadata": {},
     "output_type": "display_data"
    },
    {
     "data": {
      "image/png": "[encoded data removed]",
      "text/plain": [
       "<Figure size 640x480 with 1 Axes>"
      ]
     },
     "metadata": {},
     "output_type": "display_data"
    }
   ],
   "source": [
    "plt.plot(r.history['loss'], label='loss')\n",
    "plt.plot(r.history['val_loss'], label='val_loss')\n",
    "plt.legend()\n",
    "plt.show()\n",
    "\n",
    "plt.plot(r.history['accuracy'], label='accuracy')\n",
    "plt.plot(r.history['val_accuracy'], label='val_accuracy')\n",
    "plt.legend()\n",
    "plt.show()"
   ]
  },
  {
   "cell_type": "code",
   "execution_count": null,
   "metadata": {},
   "outputs": [],
   "source": []
  }
 ],
 "metadata": {
  "kernelspec": {
   "display_name": "FNN_env",
   "language": "python",
   "name": "python3"
  },
  "language_info": {
   "codemirror_mode": {
    "name": "ipython",
    "version": 3
   },
   "file_extension": ".py",
   "mimetype": "text/x-python",
   "name": "python",
   "nbconvert_exporter": "python",
   "pygments_lexer": "ipython3",
   "version": "3.9.21"
  }
 },
 "nbformat": 4,
 "nbformat_minor": 2
}
